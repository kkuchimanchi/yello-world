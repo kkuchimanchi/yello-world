{
 "cells": [
  {
   "cell_type": "markdown",
   "metadata": {
    "collapsed": true
   },
   "source": [
    "2+3"
   ]
  },
  {
   "cell_type": "code",
   "execution_count": 1,
   "metadata": {},
   "outputs": [
    {
     "data": {
      "text/plain": [
       "5"
      ]
     },
     "execution_count": 1,
     "metadata": {},
     "output_type": "execute_result"
    }
   ],
   "source": [
    "2+3"
   ]
  },
  {
   "cell_type": "code",
   "execution_count": 2,
   "metadata": {},
   "outputs": [],
   "source": [
    "x=2"
   ]
  },
  {
   "cell_type": "code",
   "execution_count": 3,
   "metadata": {},
   "outputs": [],
   "source": [
    "y=5"
   ]
  },
  {
   "cell_type": "code",
   "execution_count": 4,
   "metadata": {},
   "outputs": [
    {
     "data": {
      "text/plain": [
       "7"
      ]
     },
     "execution_count": 4,
     "metadata": {},
     "output_type": "execute_result"
    }
   ],
   "source": [
    "x+y"
   ]
  },
  {
   "cell_type": "code",
   "execution_count": 5,
   "metadata": {},
   "outputs": [],
   "source": [
    "def number_of_lines():\n",
    "    fhand = open('/cxldata/datasets/project/mbox-short.txt')\n",
    "    inp = fhand.read()\n",
    "    fhand.close()\n",
    "    count=0\n",
    "    for c in inp:\n",
    "        if c == '\\n':\n",
    "            count +=1\n",
    "    return count"
   ]
  },
  {
   "cell_type": "code",
   "execution_count": 6,
   "metadata": {},
   "outputs": [
    {
     "data": {
      "text/plain": [
       "1910"
      ]
     },
     "execution_count": 6,
     "metadata": {},
     "output_type": "execute_result"
    }
   ],
   "source": [
    "number_of_lines()"
   ]
  },
  {
   "cell_type": "code",
   "execution_count": 7,
   "metadata": {},
   "outputs": [],
   "source": [
    "def count_number_of_lines():\n",
    "    fhand = open('/cxldata/datasets/project/mbox-short.txt')\n",
    "    count = 0\n",
    "    for line in fhand:\n",
    "        line = line.rstrip() # Remove new line characters from right\n",
    "        if line.startswith('From:'):\n",
    "            count +=1\n",
    "            #print(line)\n",
    "    return count"
   ]
  },
  {
   "cell_type": "code",
   "execution_count": 8,
   "metadata": {},
   "outputs": [
    {
     "data": {
      "text/plain": [
       "27"
      ]
     },
     "execution_count": 8,
     "metadata": {},
     "output_type": "execute_result"
    }
   ],
   "source": [
    "count_number_of_lines()"
   ]
  },
  {
   "cell_type": "code",
   "execution_count": 9,
   "metadata": {},
   "outputs": [],
   "source": [
    "def average_spam_confidence():\n",
    "    fhand = open('/cxldata/datasets/project/mbox-short.txt')\n",
    "    count=0\n",
    "    spm_Conf_avg=0.0\n",
    "    for line in fhand:\n",
    "        line = line.rstrip() # Remove new line characters from right\n",
    "        if line.startswith ('X-DSPAM-Confidence:'):\n",
    "            spm_Conf=line.split(':')\n",
    "            spm_Conf_avg += float(spm_Conf[1])\n",
    "            count +=1\n",
    "    return (spm_Conf_avg/count)"
   ]
  },
  {
   "cell_type": "code",
   "execution_count": 10,
   "metadata": {},
   "outputs": [
    {
     "data": {
      "text/plain": [
       "0.7507185185185187"
      ]
     },
     "execution_count": 10,
     "metadata": {},
     "output_type": "execute_result"
    }
   ],
   "source": [
    "average_spam_confidence()"
   ]
  },
  {
   "cell_type": "code",
   "execution_count": 11,
   "metadata": {},
   "outputs": [],
   "source": [
    "def find_email_sent_days():\n",
    "    fhand = open('/cxldata/datasets/project/mbox-short.txt')\n",
    "    thisdict={}\n",
    "    for line in fhand:\n",
    "        line = line.rstrip() # Remove new line characters from right\n",
    "        if line.startswith('From'):\n",
    "            #print (line)\n",
    "            arr_with_tab_split = line.split(' ')\n",
    "            if len (arr_with_tab_split) >3:\n",
    "                day_of_the_week = arr_with_tab_split[2]\n",
    "                if day_of_the_week in thisdict:\n",
    "                    thisdict[day_of_the_week] += 1\n",
    "                else:\n",
    "                    thisdict[day_of_the_week] =1\n",
    "\n",
    "    return thisdict\n",
    "            "
   ]
  },
  {
   "cell_type": "code",
   "execution_count": 12,
   "metadata": {},
   "outputs": [
    {
     "data": {
      "text/plain": [
       "{'Sat': 1, 'Fri': 20, 'Thu': 6}"
      ]
     },
     "execution_count": 12,
     "metadata": {},
     "output_type": "execute_result"
    }
   ],
   "source": [
    "find_email_sent_days()"
   ]
  },
  {
   "cell_type": "code",
   "execution_count": 13,
   "metadata": {},
   "outputs": [],
   "source": [
    "def count_message_from_email():\n",
    "    fhand = open('/cxldata/datasets/project/mbox-short.txt')\n",
    "    thisdict={}\n",
    "    for line in fhand:\n",
    "        line = line.rstrip() # Remove new line characters from right\n",
    "        if line.startswith('From:'):\n",
    "            #print (line)\n",
    "            arr_with_tab_split = line.split(' ')\n",
    "            from_email_add = arr_with_tab_split[1]\n",
    "            if from_email_add in thisdict:\n",
    "                thisdict[from_email_add]+=1\n",
    "            else:\n",
    "                thisdict[from_email_add]=1\n",
    "    return thisdict\n",
    "        "
   ]
  },
  {
   "cell_type": "code",
   "execution_count": 14,
   "metadata": {},
   "outputs": [
    {
     "data": {
      "text/plain": [
       "{'stephen.marquard@uct.ac.za': 2,\n",
       " 'louis@media.berkeley.edu': 3,\n",
       " 'zqian@umich.edu': 4,\n",
       " 'rjlowe@iupui.edu': 2,\n",
       " 'cwen@iupui.edu': 5,\n",
       " 'gsilver@umich.edu': 3,\n",
       " 'wagnermr@iupui.edu': 1,\n",
       " 'antranig@caret.cam.ac.uk': 1,\n",
       " 'gopal.ramasammycook@gmail.com': 1,\n",
       " 'david.horwitz@uct.ac.za': 4,\n",
       " 'ray@media.berkeley.edu': 1}"
      ]
     },
     "execution_count": 14,
     "metadata": {},
     "output_type": "execute_result"
    }
   ],
   "source": [
    "count_message_from_email()"
   ]
  },
  {
   "cell_type": "code",
   "execution_count": 15,
   "metadata": {},
   "outputs": [],
   "source": [
    "def count_message_from_domain():\n",
    "    fhand = open('/cxldata/datasets/project/mbox-short.txt')\n",
    "    thisdict={}\n",
    "    for line in fhand:\n",
    "        line = line.rstrip() # Remove new line characters from right\n",
    "        if line.startswith('From:'):\n",
    "            #print (line)\n",
    "            arr_with_split = line.split('@')\n",
    "            from_email_domain = arr_with_split[1]\n",
    "            if from_email_domain in thisdict:\n",
    "                thisdict[from_email_domain]+=1\n",
    "            else:\n",
    "                thisdict[from_email_domain]=1\n",
    "            \n",
    "    return thisdict"
   ]
  },
  {
   "cell_type": "code",
   "execution_count": 16,
   "metadata": {},
   "outputs": [
    {
     "data": {
      "text/plain": [
       "{'uct.ac.za': 6,\n",
       " 'media.berkeley.edu': 4,\n",
       " 'umich.edu': 7,\n",
       " 'iupui.edu': 8,\n",
       " 'caret.cam.ac.uk': 1,\n",
       " 'gmail.com': 1}"
      ]
     },
     "execution_count": 16,
     "metadata": {},
     "output_type": "execute_result"
    }
   ],
   "source": [
    "count_message_from_domain()"
   ]
  },
  {
   "cell_type": "code",
   "execution_count": 17,
   "metadata": {},
   "outputs": [],
   "source": [
    "import numpy as np"
   ]
  },
  {
   "cell_type": "code",
   "execution_count": 18,
   "metadata": {},
   "outputs": [
    {
     "name": "stdout",
     "output_type": "stream",
     "text": [
      "[[0. 0. 0. 0.]\n",
      " [0. 0. 0. 0.]\n",
      " [0. 0. 0. 0.]]\n"
     ]
    },
    {
     "data": {
      "text/plain": [
       "numpy.dtype"
      ]
     },
     "execution_count": 18,
     "metadata": {},
     "output_type": "execute_result"
    }
   ],
   "source": [
    "x = np.zeros((3,4))\n",
    "print (x)\n",
    "type (x.dtype)"
   ]
  },
  {
   "cell_type": "code",
   "execution_count": 19,
   "metadata": {},
   "outputs": [
    {
     "data": {
      "text/plain": [
       "array([  0. ,  12.5,  25. ,  37.5,  50. ,  62.5,  75. ,  87.5, 100. ])"
      ]
     },
     "execution_count": 19,
     "metadata": {},
     "output_type": "execute_result"
    }
   ],
   "source": [
    "np.linspace(0,100,9)"
   ]
  },
  {
   "cell_type": "code",
   "execution_count": 20,
   "metadata": {},
   "outputs": [
    {
     "data": {
      "text/plain": [
       "array([ 0.        ,  0.41666667,  0.83333333,  1.25      ,  1.66666667,\n",
       "        2.08333333,  2.5       ,  2.91666667,  3.33333333,  3.75      ,\n",
       "        4.16666667,  4.58333333,  5.        ,  5.41666667,  5.83333333,\n",
       "        6.25      ,  6.66666667,  7.08333333,  7.5       ,  7.91666667,\n",
       "        8.33333333,  8.75      ,  9.16666667,  9.58333333, 10.        ])"
      ]
     },
     "execution_count": 20,
     "metadata": {},
     "output_type": "execute_result"
    }
   ],
   "source": [
    "np.linspace(0,10,25)"
   ]
  },
  {
   "cell_type": "code",
   "execution_count": 21,
   "metadata": {},
   "outputs": [
    {
     "name": "stdout",
     "output_type": "stream",
     "text": [
      "5.0\n",
      "[ 3.  19.7]\n"
     ]
    }
   ],
   "source": [
    "a = np.array([1,5,3,19.7,3])\n",
    "print(a[1])\n",
    "print(a[2:4])"
   ]
  },
  {
   "cell_type": "code",
   "execution_count": 22,
   "metadata": {},
   "outputs": [
    {
     "data": {
      "text/plain": [
       "array([[0.57894858, 0.65235744, 0.18376237, 0.61628057, 0.18338628,\n",
       "        0.46077423, 0.71089127, 0.57595984],\n",
       "       [0.89709813, 0.80773395, 0.98693738, 0.44447746, 0.68858723,\n",
       "        0.14872298, 0.26508556, 0.77602447],\n",
       "       [0.72781058, 0.58705167, 0.9125325 , 0.54075813, 0.41787939,\n",
       "        0.39468111, 0.96691744, 0.65218167],\n",
       "       [0.36560136, 0.46345769, 0.28629056, 0.67399548, 0.85905349,\n",
       "        0.73281826, 0.44439674, 0.88766842],\n",
       "       [0.33116723, 0.29416029, 0.73188994, 0.53620894, 0.46347333,\n",
       "        0.18528265, 0.47708675, 0.5191791 ]])"
      ]
     },
     "execution_count": 22,
     "metadata": {},
     "output_type": "execute_result"
    }
   ],
   "source": [
    "x = np.random.rand(5,8)\n",
    "x"
   ]
  },
  {
   "cell_type": "code",
   "execution_count": 23,
   "metadata": {},
   "outputs": [
    {
     "name": "stdout",
     "output_type": "stream",
     "text": [
      "[0.89709813 0.80773395 0.98693738 0.44447746 0.68858723 0.14872298\n",
      " 0.26508556 0.77602447]\n",
      "x one-one is: 0.807733951052926\n",
      "Getting a slice of the array\n",
      "[[0.57894858 0.65235744]\n",
      " [0.89709813 0.80773395]]\n"
     ]
    }
   ],
   "source": [
    "print(x[1])\n",
    "print(\"x one-one is:\",x[1,1])\n",
    "print (\"Getting a slice of the array\")\n",
    "print (x[0:2, 0:2])"
   ]
  },
  {
   "cell_type": "code",
   "execution_count": 24,
   "metadata": {},
   "outputs": [
    {
     "data": {
      "text/plain": [
       "array([[ 0,  1,  2,  3,  4],\n",
       "       [ 5,  6,  7,  8,  9],\n",
       "       [10, 11, 12, 13, 14],\n",
       "       [15, 16, 17, 18, 19]])"
      ]
     },
     "execution_count": 24,
     "metadata": {},
     "output_type": "execute_result"
    }
   ],
   "source": [
    "a = np.arange(20).reshape(4,5)\n",
    "a"
   ]
  },
  {
   "cell_type": "code",
   "execution_count": 25,
   "metadata": {},
   "outputs": [
    {
     "name": "stdout",
     "output_type": "stream",
     "text": [
      "[1 2 3]\n"
     ]
    }
   ],
   "source": [
    "sample_list = [1,2,3]\n",
    "list_array = np.array(sample_list)\n",
    "print (list_array)"
   ]
  },
  {
   "cell_type": "code",
   "execution_count": 26,
   "metadata": {},
   "outputs": [
    {
     "name": "stdout",
     "output_type": "stream",
     "text": [
      "[1 2 3]\n"
     ]
    }
   ],
   "source": [
    "tup = (1,2,3)\n",
    "my_tup_array = np.array(tup)\n",
    "print (my_tup_array)"
   ]
  },
  {
   "cell_type": "code",
   "execution_count": 27,
   "metadata": {},
   "outputs": [],
   "source": [
    "def multiply_loops(A, B):\n",
    "    c=np.zeros((A.shape[0], B.shape[1]))\n",
    "    for i in range(A.shape[0]):\n",
    "        for k in range(B.shape[1]):\n",
    "            c[i,k] = 0\n",
    "            for j in range(B.shape[0]):\n",
    "                n = A[i,j] * B[j,k]\n",
    "                c[i,k] += n\n",
    "    return c"
   ]
  },
  {
   "cell_type": "code",
   "execution_count": 28,
   "metadata": {},
   "outputs": [],
   "source": [
    "def multiply_vector(A, B):\n",
    "     return A @ B"
   ]
  },
  {
   "cell_type": "code",
   "execution_count": 29,
   "metadata": {},
   "outputs": [],
   "source": [
    "X = np.random.random((100, 100))\n",
    "Y = np.random.random((100, 100))"
   ]
  },
  {
   "cell_type": "code",
   "execution_count": 30,
   "metadata": {},
   "outputs": [
    {
     "name": "stdout",
     "output_type": "stream",
     "text": [
      "874 ms ± 95.4 ms per loop (mean ± std. dev. of 7 runs, 1 loop each)\n",
      "28.7 µs ± 1.14 µs per loop (mean ± std. dev. of 7 runs, 10000 loops each)\n"
     ]
    }
   ],
   "source": [
    "%timeit multiply_loops(X, Y)\n",
    "%timeit multiply_vector(X, Y)"
   ]
  },
  {
   "cell_type": "code",
   "execution_count": 31,
   "metadata": {},
   "outputs": [
    {
     "name": "stdout",
     "output_type": "stream",
     "text": [
      "[[0 0 0 0]\n",
      " [0 0 0 0]\n",
      " [0 0 0 0]]\n",
      "[[1 1 1 1]\n",
      " [1 1 1 1]\n",
      " [1 1 1 1]]\n",
      "[[7 7 7 7]\n",
      " [7 7 7 7]\n",
      " [7 7 7 7]]\n",
      "[[1. 0. 0. 0.]\n",
      " [0. 1. 0. 0.]\n",
      " [0. 0. 1. 0.]\n",
      " [0. 0. 0. 1.]]\n"
     ]
    }
   ],
   "source": [
    "tup_dim = (3,4)\n",
    "my_zeros_array = np.zeros(tup_dim, dtype=np.int16)\n",
    "my_ones_array = np.ones(tup_dim, dtype=np.int16)\n",
    "my_seven_array = np.full(tup_dim,7, dtype=np.int16)\n",
    "my_identity_array = np.identity(4, dtype=np.float64)\n",
    "\n",
    "print (my_zeros_array)\n",
    "print (my_ones_array)\n",
    "print (my_seven_array)\n",
    "print (my_identity_array)"
   ]
  },
  {
   "cell_type": "code",
   "execution_count": 32,
   "metadata": {},
   "outputs": [
    {
     "data": {
      "text/plain": [
       "array([[0.68637768, 0.90155269, 0.38061239, 0.80996982],\n",
       "       [0.85072575, 0.9682958 , 0.20355537, 0.44409823],\n",
       "       [0.72670303, 0.65265339, 0.85041601, 0.53286717]])"
      ]
     },
     "execution_count": 32,
     "metadata": {},
     "output_type": "execute_result"
    }
   ],
   "source": [
    "my_rand_array = np.random.rand(3,4)\n",
    "my_rand_array"
   ]
  },
  {
   "cell_type": "code",
   "execution_count": 33,
   "metadata": {},
   "outputs": [
    {
     "data": {
      "text/plain": [
       "array([[0.68637768, 0.90155269, 0.38061239, 0.80996982],\n",
       "       [0.85072575, 0.9682958 , 0.20355537, 0.44409823],\n",
       "       [0.72670303, 0.65265339, 0.85041601, 0.53286717]])"
      ]
     },
     "execution_count": 33,
     "metadata": {},
     "output_type": "execute_result"
    }
   ],
   "source": [
    "tup_dim = (3,4)\n",
    "my_uninitialized_array = np.empty(tup_dim)\n",
    "my_uninitialized_array"
   ]
  },
  {
   "cell_type": "code",
   "execution_count": 34,
   "metadata": {},
   "outputs": [
    {
     "data": {
      "text/plain": [
       "array([10, 15, 20, 25])"
      ]
     },
     "execution_count": 34,
     "metadata": {},
     "output_type": "execute_result"
    }
   ],
   "source": [
    "my_range_array = np.arange (10,30,5)\n",
    "my_range_array"
   ]
  },
  {
   "cell_type": "code",
   "execution_count": 35,
   "metadata": {},
   "outputs": [
    {
     "data": {
      "text/plain": [
       "array([0.        , 0.33333333, 0.66666667, 1.        , 1.33333333,\n",
       "       1.66666667])"
      ]
     },
     "execution_count": 35,
     "metadata": {},
     "output_type": "execute_result"
    }
   ],
   "source": [
    "my_spaced_array =np.linspace(0,5/3,6)\n",
    "my_spaced_array"
   ]
  },
  {
   "cell_type": "code",
   "execution_count": 36,
   "metadata": {},
   "outputs": [
    {
     "name": "stdout",
     "output_type": "stream",
     "text": [
      "[[3 4 6]\n",
      " [0 8 1]]\n",
      "Dimensions:  2\n",
      "Shape:  (2, 3)\n",
      "Size:  6\n",
      "Dtype:  int64\n",
      "Itemsize:  8\n"
     ]
    }
   ],
   "source": [
    "array_A = np.array([ [3,4,6], [0,8,1]])\n",
    "print (array_A)\n",
    "print (\"Dimensions: \", array_A.ndim)\n",
    "print (\"Shape: \" ,array_A.shape)\n",
    "print (\"Size: \", array_A.size)\n",
    "print (\"Dtype: \", array_A.dtype)\n",
    "print (\"Itemsize: \", array_A.itemsize)"
   ]
  },
  {
   "cell_type": "code",
   "execution_count": 37,
   "metadata": {},
   "outputs": [
    {
     "name": "stdout",
     "output_type": "stream",
     "text": [
      "[[ 1  4  5  6]\n",
      " [ 7  8  9 10]\n",
      " [11 12 14 16]]\n",
      "Dimensions:  2\n",
      "Shape:  (3, 4)\n",
      "Size:  12\n",
      "Dtype:  int64\n",
      "Itemsize:  8\n"
     ]
    }
   ],
   "source": [
    "my_array = np.array([ [1, 4, 5, 6], [7, 8, 9, 10], [11, 12, 14, 16] ])\n",
    "print(my_array)\n",
    "print (\"Dimensions: \", my_array.ndim)\n",
    "print (\"Shape: \" ,my_array.shape)\n",
    "print (\"Size: \", my_array.size)\n",
    "print (\"Dtype: \", my_array.dtype)\n",
    "print (\"Itemsize: \", my_array.itemsize)"
   ]
  },
  {
   "cell_type": "code",
   "execution_count": 38,
   "metadata": {},
   "outputs": [],
   "source": [
    "import os\n",
    "import pandas as pd\n",
    "# defining housing.csv file path\n",
    "HOUSING_PATH = '../ml/machine_learning/datasets/housing/'\n",
    "# reading the large housing.csv file using pandas\n",
    "housing_raw = pd.read_csv(os.path.join(HOUSING_PATH, \"housing.csv\"))\n",
    "# extracting only a few rows (5 rows) of data from the pandas dataframe 'my_df'\n",
    "my_df = housing_raw.iloc[ : 5]\n",
    "# creating a new small csv file - 'housing_short.csv' - containing the above extracted 5 rows of data\n",
    "my_df.to_csv('housing_short.csv', index=False)"
   ]
  },
  {
   "cell_type": "code",
   "execution_count": 39,
   "metadata": {},
   "outputs": [
    {
     "data": {
      "text/html": [
       "<div>\n",
       "<style scoped>\n",
       "    .dataframe tbody tr th:only-of-type {\n",
       "        vertical-align: middle;\n",
       "    }\n",
       "\n",
       "    .dataframe tbody tr th {\n",
       "        vertical-align: top;\n",
       "    }\n",
       "\n",
       "    .dataframe thead th {\n",
       "        text-align: right;\n",
       "    }\n",
       "</style>\n",
       "<table border=\"1\" class=\"dataframe\">\n",
       "  <thead>\n",
       "    <tr style=\"text-align: right;\">\n",
       "      <th></th>\n",
       "      <th>longitude</th>\n",
       "      <th>latitude</th>\n",
       "      <th>housing_median_age</th>\n",
       "      <th>total_rooms</th>\n",
       "      <th>total_bedrooms</th>\n",
       "      <th>population</th>\n",
       "      <th>households</th>\n",
       "      <th>median_income</th>\n",
       "      <th>median_house_value</th>\n",
       "      <th>ocean_proximity</th>\n",
       "    </tr>\n",
       "  </thead>\n",
       "  <tbody>\n",
       "    <tr>\n",
       "      <td>0</td>\n",
       "      <td>-122.23</td>\n",
       "      <td>37.88</td>\n",
       "      <td>41.0</td>\n",
       "      <td>880.0</td>\n",
       "      <td>129.0</td>\n",
       "      <td>322.0</td>\n",
       "      <td>126.0</td>\n",
       "      <td>8.3252</td>\n",
       "      <td>452600.0</td>\n",
       "      <td>NEAR BAY</td>\n",
       "    </tr>\n",
       "    <tr>\n",
       "      <td>1</td>\n",
       "      <td>-122.22</td>\n",
       "      <td>37.86</td>\n",
       "      <td>21.0</td>\n",
       "      <td>7099.0</td>\n",
       "      <td>1106.0</td>\n",
       "      <td>2401.0</td>\n",
       "      <td>1138.0</td>\n",
       "      <td>8.3014</td>\n",
       "      <td>358500.0</td>\n",
       "      <td>NEAR BAY</td>\n",
       "    </tr>\n",
       "    <tr>\n",
       "      <td>2</td>\n",
       "      <td>-122.24</td>\n",
       "      <td>37.85</td>\n",
       "      <td>52.0</td>\n",
       "      <td>1467.0</td>\n",
       "      <td>190.0</td>\n",
       "      <td>496.0</td>\n",
       "      <td>177.0</td>\n",
       "      <td>7.2574</td>\n",
       "      <td>352100.0</td>\n",
       "      <td>NEAR BAY</td>\n",
       "    </tr>\n",
       "    <tr>\n",
       "      <td>3</td>\n",
       "      <td>-122.25</td>\n",
       "      <td>37.85</td>\n",
       "      <td>52.0</td>\n",
       "      <td>1274.0</td>\n",
       "      <td>235.0</td>\n",
       "      <td>558.0</td>\n",
       "      <td>219.0</td>\n",
       "      <td>5.6431</td>\n",
       "      <td>341300.0</td>\n",
       "      <td>NEAR BAY</td>\n",
       "    </tr>\n",
       "    <tr>\n",
       "      <td>4</td>\n",
       "      <td>-122.25</td>\n",
       "      <td>37.85</td>\n",
       "      <td>52.0</td>\n",
       "      <td>1627.0</td>\n",
       "      <td>280.0</td>\n",
       "      <td>565.0</td>\n",
       "      <td>259.0</td>\n",
       "      <td>3.8462</td>\n",
       "      <td>342200.0</td>\n",
       "      <td>NEAR BAY</td>\n",
       "    </tr>\n",
       "  </tbody>\n",
       "</table>\n",
       "</div>"
      ],
      "text/plain": [
       "   longitude  latitude  housing_median_age  total_rooms  total_bedrooms  \\\n",
       "0    -122.23     37.88                41.0        880.0           129.0   \n",
       "1    -122.22     37.86                21.0       7099.0          1106.0   \n",
       "2    -122.24     37.85                52.0       1467.0           190.0   \n",
       "3    -122.25     37.85                52.0       1274.0           235.0   \n",
       "4    -122.25     37.85                52.0       1627.0           280.0   \n",
       "\n",
       "   population  households  median_income  median_house_value ocean_proximity  \n",
       "0       322.0       126.0         8.3252            452600.0        NEAR BAY  \n",
       "1      2401.0      1138.0         8.3014            358500.0        NEAR BAY  \n",
       "2       496.0       177.0         7.2574            352100.0        NEAR BAY  \n",
       "3       558.0       219.0         5.6431            341300.0        NEAR BAY  \n",
       "4       565.0       259.0         3.8462            342200.0        NEAR BAY  "
      ]
     },
     "execution_count": 39,
     "metadata": {},
     "output_type": "execute_result"
    }
   ],
   "source": [
    "my_df.head()"
   ]
  },
  {
   "cell_type": "code",
   "execution_count": 40,
   "metadata": {},
   "outputs": [
    {
     "data": {
      "text/html": [
       "<div>\n",
       "<style scoped>\n",
       "    .dataframe tbody tr th:only-of-type {\n",
       "        vertical-align: middle;\n",
       "    }\n",
       "\n",
       "    .dataframe tbody tr th {\n",
       "        vertical-align: top;\n",
       "    }\n",
       "\n",
       "    .dataframe thead th {\n",
       "        text-align: right;\n",
       "    }\n",
       "</style>\n",
       "<table border=\"1\" class=\"dataframe\">\n",
       "  <thead>\n",
       "    <tr style=\"text-align: right;\">\n",
       "      <th></th>\n",
       "      <th>longitude</th>\n",
       "      <th>latitude</th>\n",
       "      <th>housing_median_age</th>\n",
       "      <th>total_rooms</th>\n",
       "      <th>total_bedrooms</th>\n",
       "      <th>population</th>\n",
       "      <th>households</th>\n",
       "      <th>median_income</th>\n",
       "      <th>median_house_value</th>\n",
       "    </tr>\n",
       "  </thead>\n",
       "  <tbody>\n",
       "    <tr>\n",
       "      <td>count</td>\n",
       "      <td>5.000000</td>\n",
       "      <td>5.000000</td>\n",
       "      <td>5.000000</td>\n",
       "      <td>5.000000</td>\n",
       "      <td>5.000000</td>\n",
       "      <td>5.000000</td>\n",
       "      <td>5.000000</td>\n",
       "      <td>5.000000</td>\n",
       "      <td>5.000000</td>\n",
       "    </tr>\n",
       "    <tr>\n",
       "      <td>mean</td>\n",
       "      <td>-122.238000</td>\n",
       "      <td>37.858000</td>\n",
       "      <td>43.600000</td>\n",
       "      <td>2469.400000</td>\n",
       "      <td>388.000000</td>\n",
       "      <td>868.400000</td>\n",
       "      <td>383.800000</td>\n",
       "      <td>6.674660</td>\n",
       "      <td>369340.000000</td>\n",
       "    </tr>\n",
       "    <tr>\n",
       "      <td>std</td>\n",
       "      <td>0.013038</td>\n",
       "      <td>0.013038</td>\n",
       "      <td>13.501852</td>\n",
       "      <td>2603.018114</td>\n",
       "      <td>405.241286</td>\n",
       "      <td>862.336535</td>\n",
       "      <td>424.493463</td>\n",
       "      <td>1.921878</td>\n",
       "      <td>47089.733488</td>\n",
       "    </tr>\n",
       "    <tr>\n",
       "      <td>min</td>\n",
       "      <td>-122.250000</td>\n",
       "      <td>37.850000</td>\n",
       "      <td>21.000000</td>\n",
       "      <td>880.000000</td>\n",
       "      <td>129.000000</td>\n",
       "      <td>322.000000</td>\n",
       "      <td>126.000000</td>\n",
       "      <td>3.846200</td>\n",
       "      <td>341300.000000</td>\n",
       "    </tr>\n",
       "    <tr>\n",
       "      <td>25%</td>\n",
       "      <td>-122.250000</td>\n",
       "      <td>37.850000</td>\n",
       "      <td>41.000000</td>\n",
       "      <td>1274.000000</td>\n",
       "      <td>190.000000</td>\n",
       "      <td>496.000000</td>\n",
       "      <td>177.000000</td>\n",
       "      <td>5.643100</td>\n",
       "      <td>342200.000000</td>\n",
       "    </tr>\n",
       "    <tr>\n",
       "      <td>50%</td>\n",
       "      <td>-122.240000</td>\n",
       "      <td>37.850000</td>\n",
       "      <td>52.000000</td>\n",
       "      <td>1467.000000</td>\n",
       "      <td>235.000000</td>\n",
       "      <td>558.000000</td>\n",
       "      <td>219.000000</td>\n",
       "      <td>7.257400</td>\n",
       "      <td>352100.000000</td>\n",
       "    </tr>\n",
       "    <tr>\n",
       "      <td>75%</td>\n",
       "      <td>-122.230000</td>\n",
       "      <td>37.860000</td>\n",
       "      <td>52.000000</td>\n",
       "      <td>1627.000000</td>\n",
       "      <td>280.000000</td>\n",
       "      <td>565.000000</td>\n",
       "      <td>259.000000</td>\n",
       "      <td>8.301400</td>\n",
       "      <td>358500.000000</td>\n",
       "    </tr>\n",
       "    <tr>\n",
       "      <td>max</td>\n",
       "      <td>-122.220000</td>\n",
       "      <td>37.880000</td>\n",
       "      <td>52.000000</td>\n",
       "      <td>7099.000000</td>\n",
       "      <td>1106.000000</td>\n",
       "      <td>2401.000000</td>\n",
       "      <td>1138.000000</td>\n",
       "      <td>8.325200</td>\n",
       "      <td>452600.000000</td>\n",
       "    </tr>\n",
       "  </tbody>\n",
       "</table>\n",
       "</div>"
      ],
      "text/plain": [
       "        longitude   latitude  housing_median_age  total_rooms  total_bedrooms  \\\n",
       "count    5.000000   5.000000            5.000000     5.000000        5.000000   \n",
       "mean  -122.238000  37.858000           43.600000  2469.400000      388.000000   \n",
       "std      0.013038   0.013038           13.501852  2603.018114      405.241286   \n",
       "min   -122.250000  37.850000           21.000000   880.000000      129.000000   \n",
       "25%   -122.250000  37.850000           41.000000  1274.000000      190.000000   \n",
       "50%   -122.240000  37.850000           52.000000  1467.000000      235.000000   \n",
       "75%   -122.230000  37.860000           52.000000  1627.000000      280.000000   \n",
       "max   -122.220000  37.880000           52.000000  7099.000000     1106.000000   \n",
       "\n",
       "        population   households  median_income  median_house_value  \n",
       "count     5.000000     5.000000       5.000000            5.000000  \n",
       "mean    868.400000   383.800000       6.674660       369340.000000  \n",
       "std     862.336535   424.493463       1.921878        47089.733488  \n",
       "min     322.000000   126.000000       3.846200       341300.000000  \n",
       "25%     496.000000   177.000000       5.643100       342200.000000  \n",
       "50%     558.000000   219.000000       7.257400       352100.000000  \n",
       "75%     565.000000   259.000000       8.301400       358500.000000  \n",
       "max    2401.000000  1138.000000       8.325200       452600.000000  "
      ]
     },
     "execution_count": 40,
     "metadata": {},
     "output_type": "execute_result"
    }
   ],
   "source": [
    "my_df.describe()"
   ]
  },
  {
   "cell_type": "code",
   "execution_count": 41,
   "metadata": {},
   "outputs": [
    {
     "data": {
      "text/plain": [
       "50"
      ]
     },
     "execution_count": 41,
     "metadata": {},
     "output_type": "execute_result"
    }
   ],
   "source": [
    "my_df.size"
   ]
  },
  {
   "cell_type": "code",
   "execution_count": 42,
   "metadata": {},
   "outputs": [],
   "source": [
    "FILE = \"housing_short.csv\""
   ]
  },
  {
   "cell_type": "code",
   "execution_count": 43,
   "metadata": {},
   "outputs": [],
   "source": [
    "def load_housing_data(file = FILE ):\n",
    "    return np.loadtxt(file, dtype={'names': ('longitude','latitude','housing_median_age','total_rooms','total_bedrooms','population','households','median_income','median_house_value','ocean_proximity'),'formats': ('f8', 'f8', 'f8', 'f8', 'f8', 'f8', 'f8', 'f8', 'f8', '|S15')}, delimiter=',', skiprows=1, unpack=True)"
   ]
  },
  {
   "cell_type": "code",
   "execution_count": 44,
   "metadata": {},
   "outputs": [],
   "source": [
    "longitude_arr,latitude_arr,housing_median_age_arr,total_rooms_arr,total_bedrooms_arr,population_arr,households_arr,median_income_arr,median_house_value_arr,ocean_proximity_arr = load_housing_data()"
   ]
  },
  {
   "cell_type": "code",
   "execution_count": 45,
   "metadata": {},
   "outputs": [
    {
     "name": "stdout",
     "output_type": "stream",
     "text": [
      "[452600. 358500. 352100. 341300. 342200.]\n"
     ]
    }
   ],
   "source": [
    "print (median_house_value_arr)"
   ]
  },
  {
   "cell_type": "code",
   "execution_count": 46,
   "metadata": {},
   "outputs": [
    {
     "name": "stdout",
     "output_type": "stream",
     "text": [
      "../ml/machine_learning/datasets/housing/\n"
     ]
    }
   ],
   "source": [
    "print (HOUSING_PATH)"
   ]
  },
  {
   "cell_type": "code",
   "execution_count": 47,
   "metadata": {},
   "outputs": [],
   "source": [
    "FILE = os.path.join(HOUSING_PATH, \"housing.csv\")"
   ]
  },
  {
   "cell_type": "code",
   "execution_count": 48,
   "metadata": {},
   "outputs": [],
   "source": [
    "def load_housing_dataset (file =FILE ):\n",
    "    return np.genfromtxt(file, dtype={'names': ('longitude','latitude','housing_median_age','total_rooms','total_bedrooms','population','households','median_income','median_house_value','ocean_proximity'),'formats': ('f8', 'f8', 'f8', 'f8', 'f8', 'f8', 'f8', 'f8', 'f8', '|S15')}, delimiter=',', skip_header=1, filling_values = 99999999, unpack=False)"
   ]
  },
  {
   "cell_type": "code",
   "execution_count": 49,
   "metadata": {},
   "outputs": [],
   "source": [
    "result_arr = load_housing_dataset()"
   ]
  },
  {
   "cell_type": "code",
   "execution_count": 50,
   "metadata": {},
   "outputs": [
    {
     "name": "stdout",
     "output_type": "stream",
     "text": [
      "[(-122.23, 37.88, 41.,  880.,  129.,  322.,  126., 8.3252, 452600., b'NEAR BAY')\n",
      " (-122.22, 37.86, 21., 7099., 1106., 2401., 1138., 8.3014, 358500., b'NEAR BAY')\n",
      " (-122.24, 37.85, 52., 1467.,  190.,  496.,  177., 7.2574, 352100., b'NEAR BAY')\n",
      " ...\n",
      " (-121.22, 39.43, 17., 2254.,  485., 1007.,  433., 1.7   ,  92300., b'INLAND')\n",
      " (-121.32, 39.43, 18., 1860.,  409.,  741.,  349., 1.8672,  84700., b'INLAND')\n",
      " (-121.24, 39.37, 16., 2785.,  616., 1387.,  530., 2.3886,  89400., b'INLAND')]\n"
     ]
    }
   ],
   "source": [
    "print (result_arr)"
   ]
  },
  {
   "cell_type": "code",
   "execution_count": 51,
   "metadata": {},
   "outputs": [
    {
     "name": "stdout",
     "output_type": "stream",
     "text": [
      "[[0 1]\n",
      " [2 3]]\n",
      "[[0 1 2]\n",
      " [3 0 0]]\n"
     ]
    }
   ],
   "source": [
    "\n",
    "my_arr_1 = np.array([ [0,1], [2,3] ])\n",
    "print (my_arr_1)\n",
    "\n",
    "my_arr_1.resize( (2, 3) )  # need two rows and one column\n",
    "\n",
    "print(my_arr_1)"
   ]
  },
  {
   "cell_type": "code",
   "execution_count": 52,
   "metadata": {
    "scrolled": true
   },
   "outputs": [
    {
     "name": "stdout",
     "output_type": "stream",
     "text": [
      "[[1 2 3 4]\n",
      " [5 6 7 8]]\n",
      "[[1 2 3 4]\n",
      " [5 6 7 8]\n",
      " [0 0 0 0]]\n"
     ]
    }
   ],
   "source": [
    "my_arr = np.array([[1,2,3,4],[5,6,7,8]])\n",
    "print(my_arr)\n",
    "my_arr.resize((3,4))\n",
    "print (my_arr)"
   ]
  },
  {
   "cell_type": "code",
   "execution_count": 53,
   "metadata": {},
   "outputs": [
    {
     "data": {
      "text/plain": [
       "array([-1,  2,  3,  4,  5,  6,  7,  8])"
      ]
     },
     "execution_count": 53,
     "metadata": {},
     "output_type": "execute_result"
    }
   ],
   "source": [
    "my_first_arr = np.array([-1,2,3,4,5,6,7,8])\n",
    "my_first_arr"
   ]
  },
  {
   "cell_type": "code",
   "execution_count": 54,
   "metadata": {},
   "outputs": [
    {
     "name": "stdout",
     "output_type": "stream",
     "text": [
      "[[-1  2  3  4]\n",
      " [ 5  6  7  8]]\n",
      "[-1  2  3  4  5  6  7  8]\n"
     ]
    }
   ],
   "source": [
    "my_new_arr = my_first_arr.reshape(2,4)\n",
    "print (my_new_arr)\n",
    "print (my_first_arr)"
   ]
  },
  {
   "cell_type": "code",
   "execution_count": 55,
   "metadata": {},
   "outputs": [
    {
     "name": "stdout",
     "output_type": "stream",
     "text": [
      "[0 1 2 3 4 5 6 7 8]\n",
      "[[0 1 2]\n",
      " [3 4 5]\n",
      " [6 7 8]]\n"
     ]
    }
   ],
   "source": [
    "my_second_arr = np.array([0,1,2,3,4,5,6,7,8])\n",
    "print(my_second_arr)\n",
    "my_updated_arr = my_second_arr.reshape(-1,3)\n",
    "print (my_updated_arr)"
   ]
  },
  {
   "cell_type": "code",
   "execution_count": 56,
   "metadata": {},
   "outputs": [
    {
     "name": "stdout",
     "output_type": "stream",
     "text": [
      "[12 89  7 26  9  3 15  1]\n"
     ]
    }
   ],
   "source": [
    "my_orig_arr = np.array([1,15,3,9,26,7,89,12])\n",
    "my_rev_arr = my_orig_arr[::-1]\n",
    "print (my_rev_arr)"
   ]
  },
  {
   "cell_type": "code",
   "execution_count": 57,
   "metadata": {},
   "outputs": [
    {
     "name": "stdout",
     "output_type": "stream",
     "text": [
      "[ 2  9 -6 -6 -6  4 20 57]\n"
     ]
    }
   ],
   "source": [
    "my_orig_arr2 = np.array([2,9,17,13,1,4,20,57])\n",
    "my_orig_arr2[2:5] = -6\n",
    "print (my_orig_arr2)"
   ]
  },
  {
   "cell_type": "code",
   "execution_count": 58,
   "metadata": {},
   "outputs": [
    {
     "name": "stdout",
     "output_type": "stream",
     "text": [
      "[ 8 23  3]\n",
      "[ 1  8 23  3 18 91  7 15]\n"
     ]
    }
   ],
   "source": [
    "apple = np.array([1,8,23,3,18,91,7,15])\n",
    "apple_slice = apple[1:4]\n",
    "print (apple_slice)\n",
    "print (apple)"
   ]
  },
  {
   "cell_type": "code",
   "execution_count": 59,
   "metadata": {},
   "outputs": [
    {
     "name": "stdout",
     "output_type": "stream",
     "text": [
      "[   8 9999    3]\n",
      "[   1    8 9999    3   18   91    7   15]\n"
     ]
    }
   ],
   "source": [
    "apple_slice[1] =9999\n",
    "print (apple_slice)\n",
    "print (apple)"
   ]
  },
  {
   "cell_type": "code",
   "execution_count": 60,
   "metadata": {},
   "outputs": [
    {
     "name": "stdout",
     "output_type": "stream",
     "text": [
      "[9999 2222   18]\n",
      "[   1    8 9999    3   18   91    7   15]\n"
     ]
    }
   ],
   "source": [
    "apple_slice_new = apple[2:5].copy()\n",
    "apple_slice_new[1]=2222\n",
    "print (apple_slice_new)\n",
    "print (apple)"
   ]
  },
  {
   "cell_type": "code",
   "execution_count": 61,
   "metadata": {},
   "outputs": [],
   "source": [
    "from sklearn.datasets import load_sample_image"
   ]
  },
  {
   "cell_type": "code",
   "execution_count": 62,
   "metadata": {},
   "outputs": [
    {
     "name": "stdout",
     "output_type": "stream",
     "text": [
      "[[[174 201 231]\n",
      "  [174 201 231]\n",
      "  [174 201 231]\n",
      "  ...\n",
      "  [250 251 255]\n",
      "  [250 251 255]\n",
      "  [250 251 255]]\n",
      "\n",
      " [[172 199 229]\n",
      "  [173 200 230]\n",
      "  [173 200 230]\n",
      "  ...\n",
      "  [251 252 255]\n",
      "  [251 252 255]\n",
      "  [251 252 255]]\n",
      "\n",
      " [[174 201 231]\n",
      "  [174 201 231]\n",
      "  [174 201 231]\n",
      "  ...\n",
      "  [252 253 255]\n",
      "  [252 253 255]\n",
      "  [252 253 255]]\n",
      "\n",
      " ...\n",
      "\n",
      " [[ 88  80   7]\n",
      "  [147 138  69]\n",
      "  [122 116  38]\n",
      "  ...\n",
      "  [ 39  42  33]\n",
      "  [  8  14   2]\n",
      "  [  6  12   0]]\n",
      "\n",
      " [[122 112  41]\n",
      "  [129 120  53]\n",
      "  [118 112  36]\n",
      "  ...\n",
      "  [  9  12   3]\n",
      "  [  9  15   3]\n",
      "  [ 16  24   9]]\n",
      "\n",
      " [[116 103  35]\n",
      "  [104  93  31]\n",
      "  [108 102  28]\n",
      "  ...\n",
      "  [ 43  49  39]\n",
      "  [ 13  21   6]\n",
      "  [ 15  24   7]]]\n"
     ]
    }
   ],
   "source": [
    "china = load_sample_image(\"china.jpg\")\n",
    "print (china)"
   ]
  },
  {
   "cell_type": "code",
   "execution_count": 63,
   "metadata": {},
   "outputs": [
    {
     "name": "stdout",
     "output_type": "stream",
     "text": [
      "[[[ 62  61  56]\n",
      "  [ 25  22  15]\n",
      "  [ 28  29  21]\n",
      "  ...\n",
      "  [ 21  27  23]\n",
      "  [ 25  25  23]\n",
      "  [ 18  13  10]]\n",
      "\n",
      " [[ 33  34  29]\n",
      "  [ 24  24  16]\n",
      "  [ 38  39  33]\n",
      "  ...\n",
      "  [ 21  25  24]\n",
      "  [ 26  24  25]\n",
      "  [ 29  23  25]]\n",
      "\n",
      " [[  3   3   1]\n",
      "  [ 15  14  10]\n",
      "  [ 29  30  25]\n",
      "  ...\n",
      "  [ 30  31  33]\n",
      "  [ 18  16  19]\n",
      "  [ 20  15  19]]\n",
      "\n",
      " ...\n",
      "\n",
      " [[ 35  32  25]\n",
      "  [ 32  32  24]\n",
      "  [ 28  22  22]\n",
      "  ...\n",
      "  [ 70  81  85]\n",
      "  [ 76  88  86]\n",
      "  [ 93  86  68]]\n",
      "\n",
      " [[ 52  51  33]\n",
      "  [ 52  46  20]\n",
      "  [ 50  43  25]\n",
      "  ...\n",
      "  [ 72  76  88]\n",
      "  [ 94  99 105]\n",
      "  [122 104  84]]\n",
      "\n",
      " [[ 58  60  39]\n",
      "  [ 63  62  34]\n",
      "  [ 65  67  46]\n",
      "  ...\n",
      "  [ 90 104 105]\n",
      "  [103 119 119]\n",
      "  [127 126 108]]]\n"
     ]
    }
   ],
   "source": [
    "portion = china [120:250,110:230]\n",
    "print (portion)"
   ]
  },
  {
   "cell_type": "code",
   "execution_count": 64,
   "metadata": {},
   "outputs": [
    {
     "data": {
      "text/plain": [
       "(427, 640, 3)"
      ]
     },
     "execution_count": 64,
     "metadata": {},
     "output_type": "execute_result"
    }
   ],
   "source": [
    "china.shape"
   ]
  },
  {
   "cell_type": "code",
   "execution_count": 68,
   "metadata": {},
   "outputs": [
    {
     "data": {
      "text/plain": [
       "(70, 120, 3)"
      ]
     },
     "execution_count": 68,
     "metadata": {},
     "output_type": "execute_result"
    }
   ],
   "source": [
    "image = china[150:220, 130:250]\n",
    "image.shape"
   ]
  },
  {
   "cell_type": "code",
   "execution_count": 69,
   "metadata": {},
   "outputs": [],
   "source": [
    "height, width, channels = image.shape"
   ]
  },
  {
   "cell_type": "code",
   "execution_count": 70,
   "metadata": {},
   "outputs": [],
   "source": [
    "image_grayscale = image.mean(axis=2).astype(np.float32)"
   ]
  },
  {
   "cell_type": "code",
   "execution_count": 71,
   "metadata": {},
   "outputs": [
    {
     "data": {
      "text/plain": [
       "(70, 120)"
      ]
     },
     "execution_count": 71,
     "metadata": {},
     "output_type": "execute_result"
    }
   ],
   "source": [
    "image_grayscale.shape"
   ]
  },
  {
   "cell_type": "code",
   "execution_count": 76,
   "metadata": {},
   "outputs": [],
   "source": [
    "images = image_grayscale.reshape(1,height,width,1)\n"
   ]
  },
  {
   "cell_type": "code",
   "execution_count": 77,
   "metadata": {},
   "outputs": [
    {
     "data": {
      "text/plain": [
       "4"
      ]
     },
     "execution_count": 77,
     "metadata": {},
     "output_type": "execute_result"
    }
   ],
   "source": [
    "images.ndim"
   ]
  },
  {
   "cell_type": "code",
   "execution_count": 86,
   "metadata": {},
   "outputs": [
    {
     "name": "stdout",
     "output_type": "stream",
     "text": [
      "[[ 0  1  2  3]\n",
      " [ 4  5  6  7]\n",
      " [ 8  9 10 11]]\n"
     ]
    }
   ],
   "source": [
    "multi_arr = np.arange(12).reshape(3,4)\n",
    "print (multi_arr)"
   ]
  },
  {
   "cell_type": "code",
   "execution_count": 89,
   "metadata": {},
   "outputs": [
    {
     "name": "stdout",
     "output_type": "stream",
     "text": [
      "[ True False  True]\n",
      "[[ 0  1  2  3]\n",
      " [ 8  9 10 11]]\n"
     ]
    }
   ],
   "source": [
    "rows_wanted = np.array( [True, False, True] )\n",
    "print (rows_wanted)\n",
    "multi_arr_portion = multi_arr[rows_wanted,:]\n",
    "print (multi_arr_portion)"
   ]
  },
  {
   "cell_type": "code",
   "execution_count": 90,
   "metadata": {},
   "outputs": [
    {
     "name": "stdout",
     "output_type": "stream",
     "text": [
      "[[ 0  1  2  3  4]\n",
      " [ 5  6  7  8  9]\n",
      " [10 11 12 13 14]\n",
      " [15 16 17 18 19]]\n"
     ]
    }
   ],
   "source": [
    "my_multi_arr = np.arange(20).reshape(4,5)\n",
    "print (my_multi_arr)"
   ]
  },
  {
   "cell_type": "code",
   "execution_count": 91,
   "metadata": {},
   "outputs": [
    {
     "name": "stdout",
     "output_type": "stream",
     "text": [
      "[[12 13 14]\n",
      " [17 18 19]]\n"
     ]
    }
   ],
   "source": [
    "my_multi_arr_portion = my_multi_arr[2:4,2:5]\n",
    "print (my_multi_arr_portion)"
   ]
  },
  {
   "cell_type": "code",
   "execution_count": 98,
   "metadata": {},
   "outputs": [
    {
     "name": "stdout",
     "output_type": "stream",
     "text": [
      "[ 0  1  2  3  4  5  6  7  8  9 10 11 12 13 14 15 16 17 18 19]\n"
     ]
    }
   ],
   "source": [
    "my_2d_arr = np.arange(20).reshape(4,5)\n",
    "my_1d_arr = my_2d_arr.ravel()\n",
    "print (my_1d_arr)"
   ]
  },
  {
   "cell_type": "code",
   "execution_count": 106,
   "metadata": {},
   "outputs": [
    {
     "name": "stdout",
     "output_type": "stream",
     "text": [
      "[20 31 42 53]\n"
     ]
    }
   ],
   "source": [
    "import numpy as np\n",
    "a = np.array([ 20, 30, 40, 50])\n",
    "b = np.arange(4)\n",
    "c=a+b\n",
    "print (c)"
   ]
  },
  {
   "cell_type": "code",
   "execution_count": 107,
   "metadata": {},
   "outputs": [
    {
     "name": "stdout",
     "output_type": "stream",
     "text": [
      "[20 29 38 47]\n"
     ]
    }
   ],
   "source": [
    "f = a-b\n",
    "print (f)"
   ]
  },
  {
   "cell_type": "code",
   "execution_count": 131,
   "metadata": {},
   "outputs": [
    {
     "name": "stdout",
     "output_type": "stream",
     "text": [
      "[60 69 78 87]\n"
     ]
    }
   ],
   "source": [
    "d_arr = np.array([60,70,80,90])\n",
    "e_arr = np.arange(4)\n",
    "f_arr = d_arr - e_arr\n",
    "print (f_arr)"
   ]
  },
  {
   "cell_type": "code",
   "execution_count": 152,
   "metadata": {},
   "outputs": [],
   "source": [
    "# ARRAY MULTIPLICATION (* & dot PRODUCT)"
   ]
  },
  {
   "cell_type": "code",
   "execution_count": 154,
   "metadata": {},
   "outputs": [],
   "source": [
    "A_arr = np.array([ [ 5,9], [4, 7] ])\n",
    "B_arr = np.array( [ [2, 8], [1, 6] ] )"
   ]
  },
  {
   "cell_type": "code",
   "execution_count": 156,
   "metadata": {},
   "outputs": [
    {
     "name": "stdout",
     "output_type": "stream",
     "text": [
      "[[10 72]\n",
      " [ 4 42]]\n"
     ]
    }
   ],
   "source": [
    "M_arr = A_arr * B_arr\n",
    "print (M_arr)"
   ]
  },
  {
   "cell_type": "code",
   "execution_count": 158,
   "metadata": {},
   "outputs": [
    {
     "name": "stdout",
     "output_type": "stream",
     "text": [
      "[[19 94]\n",
      " [15 74]]\n"
     ]
    }
   ],
   "source": [
    "C_arr = np.array([ [ 5,9], [4, 7] ])\n",
    "D_arr = np.array( [ [2, 8], [1, 6] ] )\n",
    "P_arr = np.dot(C_arr,D_arr)\n",
    "print (P_arr)"
   ]
  },
  {
   "cell_type": "code",
   "execution_count": 178,
   "metadata": {},
   "outputs": [
    {
     "name": "stdout",
     "output_type": "stream",
     "text": [
      "[20 30 40 50]\n",
      "[1 2 3 4]\n",
      "Division: [20.         15.         13.33333333 12.5       ]\n",
      "Integer Division: [20 15 13 12]\n",
      "Modulus: [0 0 1 2]\n"
     ]
    }
   ],
   "source": [
    "R = np.array( [ 20, 30, 40, 50] )\n",
    "S = np.arange( 1, 5 )\n",
    "T = R / S\n",
    "Ti = R // S\n",
    "Tm = R % S\n",
    "print (R)\n",
    "print (S)\n",
    "print (\"Division:\" , T)\n",
    "print (\"Integer Division:\", Ti)\n",
    "print (\"Modulus:\",Tm)"
   ]
  },
  {
   "cell_type": "code",
   "execution_count": 185,
   "metadata": {},
   "outputs": [
    {
     "name": "stdout",
     "output_type": "stream",
     "text": [
      "Simple Divison: [[12.5  6.5]\n",
      " [10.   2.8]]\n",
      "Integer Division: [[12  6]\n",
      " [ 5 23]]\n",
      "Modulus: [[0 5]\n",
      " [0 1]]\n"
     ]
    }
   ],
   "source": [
    "R_div = np.array([ [ 25,65], [40, 14] ])\n",
    "S_div = np.array([ [2, 10], [4, 5] ] )\n",
    "T_div = R_div / S_div\n",
    "print (\"Simple Divison:\", T_div)\n",
    "\n",
    "\n",
    "R_int_div = np.array([ [ 25,65], [40, 70] ])\n",
    "S_int_div = np.array([ [2, 10], [8, 3] ] )\n",
    "T_int_div = R_int_div // S_int_div\n",
    "print (\"Integer Division:\", T_int_div)\n",
    "\n",
    "\n",
    "R_mod = np.array([ [ 20,65], [40, 70] ])\n",
    "S_mod = np.array([ [2, 10], [8, 3] ] )\n",
    "T_mod = R_mod % S_mod\n",
    "print (\"Modulus:\", T_mod)"
   ]
  },
  {
   "cell_type": "code",
   "execution_count": 204,
   "metadata": {},
   "outputs": [
    {
     "name": "stdout",
     "output_type": "stream",
     "text": [
      "[20 30 40 50]\n",
      "[1 2 3 4]\n",
      "[     20     900   64000 6250000]\n"
     ]
    }
   ],
   "source": [
    "R_exp = np.array( [ 20, 30, 40, 50] )\n",
    "S_exp = np.arange( 1, 5 )\n",
    "T_exp = R_exp ** S_exp \n",
    "print(R_exp)\n",
    "print(S_exp)\n",
    "print(T_exp)"
   ]
  },
  {
   "cell_type": "code",
   "execution_count": 205,
   "metadata": {},
   "outputs": [
    {
     "name": "stdout",
     "output_type": "stream",
     "text": [
      "[[  16 1024]\n",
      " [  81 1024]]\n"
     ]
    }
   ],
   "source": [
    "R_exp = np.array([ [ 4, 2], [3, 4 ] ] )\n",
    "S_exp = np.array( [ [2, 10], [4, 5] ] )\n",
    "T_exp = R_exp ** S_exp\n",
    "print (T_exp)"
   ]
  },
  {
   "cell_type": "code",
   "execution_count": 215,
   "metadata": {},
   "outputs": [
    {
     "name": "stdout",
     "output_type": "stream",
     "text": [
      "[False  True  True False]\n",
      "[20 -5]\n"
     ]
    }
   ],
   "source": [
    "m = np.array( [ 20, -5, 30, 40] )\n",
    "print (m < [15, 16, 35, 36])\n",
    "print (m[m<25])"
   ]
  },
  {
   "cell_type": "code",
   "execution_count": 218,
   "metadata": {},
   "outputs": [
    {
     "name": "stdout",
     "output_type": "stream",
     "text": [
      "[[22 45]\n",
      " [90  4]]\n",
      "[22  4]\n"
     ]
    }
   ],
   "source": [
    "U = np.array([ [ 22, 45], [90, 4 ] ] )\n",
    "print (U)\n",
    "print (U[U<45])"
   ]
  },
  {
   "cell_type": "code",
   "execution_count": 223,
   "metadata": {},
   "outputs": [
    {
     "name": "stdout",
     "output_type": "stream",
     "text": [
      "mean =  6.766666666666667\n",
      "Variance =  25.855555555555554\n",
      "Standard Deviation =  5.084835843520964\n",
      "min =  -2.5\n",
      "max =  12.0\n",
      "sum =  40.6\n",
      "product =  -71610.0\n"
     ]
    }
   ],
   "source": [
    "X = np.array( [ [-2.5, 3.1, 7],\n",
    "                [10, 11, 12] ] )\n",
    "print(\"mean = \", X.mean())\n",
    "print(\"Variance = \", X.var())\n",
    "print(\"Standard Deviation = \", X.std())\n",
    "print(\"min = \", X.min())\n",
    "print(\"max = \", X.max())\n",
    "print(\"sum = \", X.sum())\n",
    "print(\"product = \", X.prod())"
   ]
  },
  {
   "cell_type": "code",
   "execution_count": 229,
   "metadata": {},
   "outputs": [
    {
     "name": "stdout",
     "output_type": "stream",
     "text": [
      "mean =  1.8333333333333333\n",
      "Variance =  11.805555555555557\n",
      "Standard Deviation =  3.435921354681384\n",
      "min =  -5\n",
      "max =  6\n",
      "sum =  11\n",
      "product =  -720\n"
     ]
    }
   ],
   "source": [
    "X_stat = np.array ([ [ 1, 2, 3], [ 4, -5, 6] ])\n",
    "print(\"mean = \", X_stat.mean())\n",
    "print(\"Variance = \", X_stat.var())\n",
    "print(\"Standard Deviation = \", X_stat.std())\n",
    "print(\"min = \", X_stat.min())\n",
    "print(\"max = \", X_stat.max())\n",
    "print(\"sum = \", X_stat.sum())\n",
    "print(\"product = \", X_stat.prod())"
   ]
  },
  {
   "cell_type": "code",
   "execution_count": 241,
   "metadata": {},
   "outputs": [
    {
     "name": "stdout",
     "output_type": "stream",
     "text": [
      "[[[ 0  1  2  3]\n",
      "  [ 4  5  6  7]\n",
      "  [ 8  9 10 11]]\n",
      "\n",
      " [[12 13 14 15]\n",
      "  [16 17 18 19]\n",
      "  [20 21 22 23]]]\n"
     ]
    }
   ],
   "source": [
    "Y = np.arange(24).reshape(2,3,4)\n",
    "\n",
    "print(Y)"
   ]
  },
  {
   "cell_type": "code",
   "execution_count": 249,
   "metadata": {},
   "outputs": [
    {
     "name": "stdout",
     "output_type": "stream",
     "text": [
      "[[[ 0  1  2]\n",
      "  [ 3  4  5]\n",
      "  [ 6  7  8]]\n",
      "\n",
      " [[ 9 10 11]\n",
      "  [12 13 14]\n",
      "  [15 16 17]]]\n",
      "Sum axis=0:\n",
      " [[ 9 11 13]\n",
      " [15 17 19]\n",
      " [21 23 25]]\n",
      "Sum axis=1:\n",
      " [[ 9 12 15]\n",
      " [36 39 42]]\n",
      "Sum axis=2:\n",
      " [[ 3 12 21]\n",
      " [30 39 48]]\n"
     ]
    }
   ],
   "source": [
    "Z = np.arange(18).reshape(2,3,3)\n",
    "print (Z)\n",
    "print( \"Sum axis=0:\\n\", Z.sum(axis=0))\n",
    "print( \"Sum axis=1:\\n\", Z.sum(axis=1))\n",
    "print( \"Sum axis=2:\\n\", Z.sum(axis=2))"
   ]
  },
  {
   "cell_type": "code",
   "execution_count": null,
   "metadata": {},
   "outputs": [],
   "source": [
    "N= np.arange(6).reshape(3,2)\n",
    "print (N)\n",
    "print(\"Transpose = \", N.T)"
   ]
  },
  {
   "cell_type": "code",
   "execution_count": 270,
   "metadata": {},
   "outputs": [
    {
     "name": "stdout",
     "output_type": "stream",
     "text": [
      "[[1. 1. 1.]\n",
      " [1. 1. 1.]\n",
      " [1. 1. 1.]]\n",
      "[0 1 2]\n",
      "[[1. 2. 3.]\n",
      " [1. 2. 3.]\n",
      " [1. 2. 3.]]\n"
     ]
    }
   ],
   "source": [
    "X_broad = np.ones((3,3))\n",
    "Y_broad = np.arange(3)\n",
    "Z_broad = X_broad + Y_broad\n",
    "print (X_broad)\n",
    "print (Y_broad)\n",
    "print (Z_broad)"
   ]
  },
  {
   "cell_type": "code",
   "execution_count": null,
   "metadata": {},
   "outputs": [],
   "source": []
  }
 ],
 "metadata": {
  "kernelspec": {
   "display_name": "Python 3",
   "language": "python",
   "name": "python3"
  },
  "language_info": {
   "codemirror_mode": {
    "name": "ipython",
    "version": 3
   },
   "file_extension": ".py",
   "mimetype": "text/x-python",
   "name": "python",
   "nbconvert_exporter": "python",
   "pygments_lexer": "ipython3",
   "version": "3.6.8"
  },
  "toc": {
   "base_numbering": 1,
   "nav_menu": {},
   "number_sections": true,
   "sideBar": true,
   "skip_h1_title": false,
   "title_cell": "Table of Contents",
   "title_sidebar": "Contents",
   "toc_cell": false,
   "toc_position": {},
   "toc_section_display": true,
   "toc_window_display": false
  }
 },
 "nbformat": 4,
 "nbformat_minor": 2
}
